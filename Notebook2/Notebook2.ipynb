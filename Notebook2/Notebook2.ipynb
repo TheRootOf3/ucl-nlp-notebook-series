{
 "cells": [
  {
   "cell_type": "markdown",
   "metadata": {},
   "source": [
    "# Notebook 2 - Text preprocessing, POS tags, and simple word model\n",
    "\n",
    "So far we have learned how to read files, manage them using pandas data frames and search for patterns using regular expressions. In this notebook we will look into the next concepts:\n",
    "- text preprocessing\n",
    "- POS tagging & Named-entity recognition (NER)\n",
    "- bag-of-words model\n",
    "\n",
    "---\n",
    "\n",
    "## 3. Text preprocessing\n",
    "Before running any analysis or developing a language model, we have to make sure that our data is in a suitable format, which will guarantee the best performance and accuracy of the algorithm. This step is called **text preprocessing** and consists of several smaller tasks.\n",
    "\n",
    "### 3.1 Load from csv to pandas\n",
    "In this section, we will use the same 'dummy_data' dataset which we used in the previous notebook. Firstly, let's load it!"
   ]
  },
  {
   "cell_type": "code",
   "execution_count": 1,
   "metadata": {},
   "outputs": [],
   "source": [
    "import pandas as pd\n",
    "import re"
   ]
  },
  {
   "cell_type": "code",
   "execution_count": 2,
   "metadata": {},
   "outputs": [
    {
     "data": {
      "text/html": [
       "<div>\n",
       "<style scoped>\n",
       "    .dataframe tbody tr th:only-of-type {\n",
       "        vertical-align: middle;\n",
       "    }\n",
       "\n",
       "    .dataframe tbody tr th {\n",
       "        vertical-align: top;\n",
       "    }\n",
       "\n",
       "    .dataframe thead th {\n",
       "        text-align: right;\n",
       "    }\n",
       "</style>\n",
       "<table border=\"1\" class=\"dataframe\">\n",
       "  <thead>\n",
       "    <tr style=\"text-align: right;\">\n",
       "      <th></th>\n",
       "      <th>type</th>\n",
       "      <th>text</th>\n",
       "      <th>tag</th>\n",
       "    </tr>\n",
       "  </thead>\n",
       "  <tbody>\n",
       "    <tr>\n",
       "      <th>0</th>\n",
       "      <td>sms</td>\n",
       "      <td>GENT! We are trying to contact you. Last weeke...</td>\n",
       "      <td>spam</td>\n",
       "    </tr>\n",
       "    <tr>\n",
       "      <th>1</th>\n",
       "      <td>sms</td>\n",
       "      <td>Wa, ur openin sentence very formal... Anyway, ...</td>\n",
       "      <td>ham</td>\n",
       "    </tr>\n",
       "    <tr>\n",
       "      <th>2</th>\n",
       "      <td>sms</td>\n",
       "      <td>As I entered my cabin my PA said, '' Happy B'd...</td>\n",
       "      <td>ham</td>\n",
       "    </tr>\n",
       "    <tr>\n",
       "      <th>3</th>\n",
       "      <td>sms</td>\n",
       "      <td>You are a winner U have been specially selecte...</td>\n",
       "      <td>spam</td>\n",
       "    </tr>\n",
       "    <tr>\n",
       "      <th>4</th>\n",
       "      <td>sms</td>\n",
       "      <td>Goodo! Yes we must speak friday - egg-potato r...</td>\n",
       "      <td>ham</td>\n",
       "    </tr>\n",
       "    <tr>\n",
       "      <th>5</th>\n",
       "      <td>sms</td>\n",
       "      <td>Hmm...my uncle just informed me that he's payi...</td>\n",
       "      <td>ham</td>\n",
       "    </tr>\n",
       "    <tr>\n",
       "      <th>6</th>\n",
       "      <td>sms</td>\n",
       "      <td>PRIVATE! Your 2004 Account Statement for 07742...</td>\n",
       "      <td>spam</td>\n",
       "    </tr>\n",
       "    <tr>\n",
       "      <th>7</th>\n",
       "      <td>sms</td>\n",
       "      <td>URGENT! Your Mobile No. was awarded σú2000 Bon...</td>\n",
       "      <td>spam</td>\n",
       "    </tr>\n",
       "    <tr>\n",
       "      <th>8</th>\n",
       "      <td>sms</td>\n",
       "      <td>here is my new address -apples&amp;pairs&amp;all that ...</td>\n",
       "      <td>ham</td>\n",
       "    </tr>\n",
       "    <tr>\n",
       "      <th>9</th>\n",
       "      <td>sms</td>\n",
       "      <td>Todays Voda numbers ending 7548 are selected t...</td>\n",
       "      <td>spam</td>\n",
       "    </tr>\n",
       "    <tr>\n",
       "      <th>10</th>\n",
       "      <td>review</td>\n",
       "      <td>I WAS SO DISAPPOINTED!! ABSOLUTELY AWEFUL SERV...</td>\n",
       "      <td>negative</td>\n",
       "    </tr>\n",
       "    <tr>\n",
       "      <th>11</th>\n",
       "      <td>review</td>\n",
       "      <td>the food was good</td>\n",
       "      <td>positive</td>\n",
       "    </tr>\n",
       "    <tr>\n",
       "      <th>12</th>\n",
       "      <td>review</td>\n",
       "      <td>THE FOOD WAS SO GOOD!!!!!! &lt;3&lt;3</td>\n",
       "      <td>positive</td>\n",
       "    </tr>\n",
       "    <tr>\n",
       "      <th>13</th>\n",
       "      <td>review</td>\n",
       "      <td>not very nice staff, food was ok</td>\n",
       "      <td>neutral</td>\n",
       "    </tr>\n",
       "    <tr>\n",
       "      <th>14</th>\n",
       "      <td>review</td>\n",
       "      <td>I didn’t like it at all – food was cold and st...</td>\n",
       "      <td>negative</td>\n",
       "    </tr>\n",
       "    <tr>\n",
       "      <th>15</th>\n",
       "      <td>review</td>\n",
       "      <td>BEST PLACE EVER</td>\n",
       "      <td>positive</td>\n",
       "    </tr>\n",
       "    <tr>\n",
       "      <th>16</th>\n",
       "      <td>review</td>\n",
       "      <td>my friends liked it but I not so much</td>\n",
       "      <td>neutral</td>\n",
       "    </tr>\n",
       "    <tr>\n",
       "      <th>17</th>\n",
       "      <td>review</td>\n",
       "      <td>I liked the food but the music was too loud an...</td>\n",
       "      <td>neutral</td>\n",
       "    </tr>\n",
       "    <tr>\n",
       "      <th>18</th>\n",
       "      <td>review</td>\n",
       "      <td>:):):) like!</td>\n",
       "      <td>positive</td>\n",
       "    </tr>\n",
       "    <tr>\n",
       "      <th>19</th>\n",
       "      <td>review</td>\n",
       "      <td>waiting time too long, table too small, overal...</td>\n",
       "      <td>negative</td>\n",
       "    </tr>\n",
       "    <tr>\n",
       "      <th>20</th>\n",
       "      <td>news_article</td>\n",
       "      <td>worldcom ex-boss launches defence lawyers defe...</td>\n",
       "      <td>business</td>\n",
       "    </tr>\n",
       "    <tr>\n",
       "      <th>21</th>\n",
       "      <td>news_article</td>\n",
       "      <td>german business confidence slides german busin...</td>\n",
       "      <td>business</td>\n",
       "    </tr>\n",
       "    <tr>\n",
       "      <th>22</th>\n",
       "      <td>news_article</td>\n",
       "      <td>bbc poll indicates economic gloom citizens in ...</td>\n",
       "      <td>business</td>\n",
       "    </tr>\n",
       "    <tr>\n",
       "      <th>23</th>\n",
       "      <td>news_article</td>\n",
       "      <td>lifestyle  governs mobile choice  faster  bett...</td>\n",
       "      <td>tech</td>\n",
       "    </tr>\n",
       "    <tr>\n",
       "      <th>24</th>\n",
       "      <td>news_article</td>\n",
       "      <td>enron bosses in $168m payout eighteen former e...</td>\n",
       "      <td>business</td>\n",
       "    </tr>\n",
       "    <tr>\n",
       "      <th>25</th>\n",
       "      <td>news_article</td>\n",
       "      <td>howard  truanted to play snooker  conservative...</td>\n",
       "      <td>politics</td>\n",
       "    </tr>\n",
       "    <tr>\n",
       "      <th>26</th>\n",
       "      <td>news_article</td>\n",
       "      <td>wales silent on grand slam talk rhys williams ...</td>\n",
       "      <td>sport</td>\n",
       "    </tr>\n",
       "    <tr>\n",
       "      <th>27</th>\n",
       "      <td>news_article</td>\n",
       "      <td>french honour for director parker british film...</td>\n",
       "      <td>entertainment</td>\n",
       "    </tr>\n",
       "    <tr>\n",
       "      <th>28</th>\n",
       "      <td>news_article</td>\n",
       "      <td>car giant hit by mercedes slump a slump in pro...</td>\n",
       "      <td>business</td>\n",
       "    </tr>\n",
       "    <tr>\n",
       "      <th>29</th>\n",
       "      <td>news_article</td>\n",
       "      <td>fockers fuel festive film chart comedy meet th...</td>\n",
       "      <td>entertainment</td>\n",
       "    </tr>\n",
       "  </tbody>\n",
       "</table>\n",
       "</div>"
      ],
      "text/plain": [
       "            type                                               text  \\\n",
       "0            sms  GENT! We are trying to contact you. Last weeke...   \n",
       "1            sms  Wa, ur openin sentence very formal... Anyway, ...   \n",
       "2            sms  As I entered my cabin my PA said, '' Happy B'd...   \n",
       "3            sms  You are a winner U have been specially selecte...   \n",
       "4            sms  Goodo! Yes we must speak friday - egg-potato r...   \n",
       "5            sms  Hmm...my uncle just informed me that he's payi...   \n",
       "6            sms  PRIVATE! Your 2004 Account Statement for 07742...   \n",
       "7            sms  URGENT! Your Mobile No. was awarded σú2000 Bon...   \n",
       "8            sms  here is my new address -apples&pairs&all that ...   \n",
       "9            sms  Todays Voda numbers ending 7548 are selected t...   \n",
       "10        review  I WAS SO DISAPPOINTED!! ABSOLUTELY AWEFUL SERV...   \n",
       "11        review                                  the food was good   \n",
       "12        review                    THE FOOD WAS SO GOOD!!!!!! <3<3   \n",
       "13        review                   not very nice staff, food was ok   \n",
       "14        review  I didn’t like it at all – food was cold and st...   \n",
       "15        review                                    BEST PLACE EVER   \n",
       "16        review              my friends liked it but I not so much   \n",
       "17        review  I liked the food but the music was too loud an...   \n",
       "18        review                                       :):):) like!   \n",
       "19        review  waiting time too long, table too small, overal...   \n",
       "20  news_article  worldcom ex-boss launches defence lawyers defe...   \n",
       "21  news_article  german business confidence slides german busin...   \n",
       "22  news_article  bbc poll indicates economic gloom citizens in ...   \n",
       "23  news_article  lifestyle  governs mobile choice  faster  bett...   \n",
       "24  news_article  enron bosses in $168m payout eighteen former e...   \n",
       "25  news_article  howard  truanted to play snooker  conservative...   \n",
       "26  news_article  wales silent on grand slam talk rhys williams ...   \n",
       "27  news_article  french honour for director parker british film...   \n",
       "28  news_article  car giant hit by mercedes slump a slump in pro...   \n",
       "29  news_article  fockers fuel festive film chart comedy meet th...   \n",
       "\n",
       "              tag  \n",
       "0            spam  \n",
       "1             ham  \n",
       "2             ham  \n",
       "3            spam  \n",
       "4             ham  \n",
       "5             ham  \n",
       "6            spam  \n",
       "7            spam  \n",
       "8             ham  \n",
       "9            spam  \n",
       "10       negative  \n",
       "11       positive  \n",
       "12       positive  \n",
       "13        neutral  \n",
       "14       negative  \n",
       "15       positive  \n",
       "16        neutral  \n",
       "17        neutral  \n",
       "18       positive  \n",
       "19       negative  \n",
       "20       business  \n",
       "21       business  \n",
       "22       business  \n",
       "23           tech  \n",
       "24       business  \n",
       "25       politics  \n",
       "26          sport  \n",
       "27  entertainment  \n",
       "28       business  \n",
       "29  entertainment  "
      ]
     },
     "execution_count": 2,
     "metadata": {},
     "output_type": "execute_result"
    }
   ],
   "source": [
    "dummy_data_dataset_file = \"https://raw.githubusercontent.com/TheRootOf3/ucl-nlp-notebook-series/main/Notebook2/datasets/dummy_data.csv\"\n",
    "\n",
    "''' uncomment if you want to run it locally '''\n",
    "# dummy_data_dataset_file = \"./datasets/dummy_data.csv\"\n",
    "\n",
    "dummy_data = pd.read_csv(dummy_data_dataset_file, encoding='utf-8')\n",
    "dummy_data"
   ]
  },
  {
   "cell_type": "markdown",
   "metadata": {},
   "source": [
    "In the dummy_data file there are 3 different types of entries. We will create an individual dataframe for each one."
   ]
  },
  {
   "cell_type": "code",
   "execution_count": 3,
   "metadata": {},
   "outputs": [],
   "source": [
    "# saving the three types of text data in 3 separate dataframes\n",
    "sms_df = dummy_data[dummy_data['type'] == \"sms\"]\n",
    "review_df = dummy_data[dummy_data['type'] == \"review\"]\n",
    "news_df = dummy_data[dummy_data['type'] == \"news_article\"]"
   ]
  },
  {
   "cell_type": "code",
   "execution_count": 4,
   "metadata": {},
   "outputs": [],
   "source": [
    "# sample entries on which we can test preprocessing methods\n",
    "\n",
    "sms_sample = \"\"\"***** CONGRATlations **** You won 2 tIckETs to Hamilton in \n",
    "NYC http://www.hamiltonbroadway.com/J?NaIOl/event   wORtH over $500.00...CALL \n",
    "555-477-8914 or send message to: hamilton@freetix.com to get ticket !! !\"\"\"\n",
    "review_sample = \"\"\" THIS FOOD AND STAFF WAS AMAZING!!!!! ABSOLUTELY LOVE THAT PLACE <3<3<3\"\"\"\n",
    "news_sample = \"\"\"worldcom ex-boss launches defence lawyers defending former worldcom chief bernie ebbers against a battery of fraud charges have called a company whistleblower as their first witness.  cynthia cooper  worldcom s ex-head of internal accounting  alerted directors to irregular accounting practices at the us telecoms giant in 2002. her warnings led to the collapse of the firm following the discovery of an $11bn (┬ú5.7bn) accounting fraud. mr ebbers has pleaded not guilty to charges of fraud and conspiracy.  prosecution lawyers have argued that mr ebbers orchestrated a series of accounting tricks at worldcom  ordering employees to hide expenses and inflate revenues to meet wall street earnings estimates. but ms cooper  who now runs her own consulting business  told a jury in new york on wednesday that external auditors arthur andersen had approved worldcom s accounting in early 2001 and 2002. she said andersen had given a  green light  to the procedures and practices used by worldcom. mr ebber s lawyers have said he was unaware of the fraud  arguing that auditors did not alert him to any problems.  ms cooper also said that during shareholder meetings mr ebbers often passed over technical questions to the company s finance chief  giving only  brief  answers himself. the prosecution s star witness  former worldcom financial chief scott sullivan  has said that mr ebbers ordered accounting adjustments at the firm  telling him to  hit our books . however  ms cooper said mr sullivan had not mentioned  anything uncomfortable  about worldcom s accounting during a 2001 audit committee meeting. mr ebbers could face a jail sentence of 85 years if convicted of all the charges he is facing. worldcom emerged from bankruptcy protection in 2004  and is now known as mci. last week  mci agreed to a buyout by verizon communications in a deal valued at $6.75bn.\"\"\""
   ]
  },
  {
   "cell_type": "markdown",
   "metadata": {},
   "source": [
    "### 3.2 Removing unwanted characters\n",
    "The is a primary step in the process of text cleaning. If we scrap some text from HTML/XML sources, we’ll need to get rid of all the tags, HTML entities, punctuation, non-alphabets, and any other kind of characters that might not be a part of the language. The general methods of such cleaning involve **regular expressions**, which can be used to filter out most of the unwanted texts.\n",
    "\n",
    "However, sometimes, depending on the type of data, we want to retain certain types of punctuation. Consider for example human-generated tweets which you want to classify as very angry, angry, neutral, happy, and very happy. Simple sentiment analysis might find it hard to differentiate between a happy, and very happy sentiment because the only difference between a happy and a very happy tweet might be punctuation.\n",
    "\n",
    "Example:\n",
    "\n",
    "*This is amazing* vs *THIS IS AMAZING!!!!!*\n",
    "\n",
    "Or what about this one\n",
    "\n",
    "*I don't know :) <3* vs *I don't know :(((*\n",
    "\n",
    "Now let's create a simple function that keeps only letters."
   ]
  },
  {
   "cell_type": "code",
   "execution_count": 5,
   "metadata": {},
   "outputs": [],
   "source": [
    "#regular expression keeping only letters \n",
    "\n",
    "def keep_letters_only(raw_text):\n",
    "    letters_only_text = re.sub(\"[^a-zA-Z]\", \" \", raw_text)\n",
    "    return letters_only_text"
   ]
  },
  {
   "cell_type": "code",
   "execution_count": 6,
   "metadata": {},
   "outputs": [
    {
     "data": {
      "text/plain": [
       "'      CONGRATlations      You won   tIckETs to Hamilton in  NYC http   www hamiltonbroadway com J NaIOl event   wORtH over           CALL               or send message to  hamilton freetix com to get ticket     '"
      ]
     },
     "execution_count": 6,
     "metadata": {},
     "output_type": "execute_result"
    }
   ],
   "source": [
    "keep_letters_only(sms_sample)"
   ]
  },
  {
   "cell_type": "markdown",
   "metadata": {},
   "source": [
    "You can see that this is not ideal as this leaves us with a lot of random stuff like \"www\" and \"com\". We will get back to that later."
   ]
  },
  {
   "cell_type": "code",
   "execution_count": 7,
   "metadata": {},
   "outputs": [
    {
     "data": {
      "text/plain": [
       "' THIS FOOD AND STAFF WAS AMAZING      ABSOLUTELY LOVE THAT PLACE       '"
      ]
     },
     "execution_count": 7,
     "metadata": {},
     "output_type": "execute_result"
    }
   ],
   "source": [
    "keep_letters_only(review_sample) "
   ]
  },
  {
   "cell_type": "markdown",
   "metadata": {},
   "source": [
    "We don't lose any meaning, but as mentioned previously, keeping the exclamation marks might be useful if we want to distinguish between positive and *VERY* positive reviews."
   ]
  },
  {
   "cell_type": "code",
   "execution_count": 8,
   "metadata": {},
   "outputs": [
    {
     "data": {
      "text/plain": [
       "'worldcom ex boss launches defence lawyers defending former worldcom chief bernie ebbers against a battery of fraud charges have called a company whistleblower as their first witness   cynthia cooper  worldcom s ex head of internal accounting  alerted directors to irregular accounting practices at the us telecoms giant in       her warnings led to the collapse of the firm following the discovery of an    bn       bn  accounting fraud  mr ebbers has pleaded not guilty to charges of fraud and conspiracy   prosecution lawyers have argued that mr ebbers orchestrated a series of accounting tricks at worldcom  ordering employees to hide expenses and inflate revenues to meet wall street earnings estimates  but ms cooper  who now runs her own consulting business  told a jury in new york on wednesday that external auditors arthur andersen had approved worldcom s accounting in early      and       she said andersen had given a  green light  to the procedures and practices used by worldcom  mr ebber s lawyers have said he was unaware of the fraud  arguing that auditors did not alert him to any problems   ms cooper also said that during shareholder meetings mr ebbers often passed over technical questions to the company s finance chief  giving only  brief  answers himself  the prosecution s star witness  former worldcom financial chief scott sullivan  has said that mr ebbers ordered accounting adjustments at the firm  telling him to  hit our books   however  ms cooper said mr sullivan had not mentioned  anything uncomfortable  about worldcom s accounting during a      audit committee meeting  mr ebbers could face a jail sentence of    years if convicted of all the charges he is facing  worldcom emerged from bankruptcy protection in       and is now known as mci  last week  mci agreed to a buyout by verizon communications in a deal valued at      bn '"
      ]
     },
     "execution_count": 8,
     "metadata": {},
     "output_type": "execute_result"
    }
   ],
   "source": [
    "keep_letters_only(news_sample)"
   ]
  },
  {
   "cell_type": "markdown",
   "metadata": {},
   "source": [
    "For news articles that works perfectly fine as we do not lose any relevant information in this case since we want to classify by genre (sports, business, tech, etc.)."
   ]
  },
  {
   "cell_type": "markdown",
   "metadata": {},
   "source": [
    "### 3.3 Text Normalisation\n",
    "Recall our sms sample:\n",
    "\n",
    "**** **** CONGRATlations **** You won 2 tIckETs to Hamilton in \n",
    "NYC http://www.hamiltonbroadway.com/J?NaIOl/event   wORtH over $500.00...CALL \n",
    "555-477-8914 or send message to: hamilton@freetix.com to get ticket !! !\n",
    "\n",
    "No doubt that this as spam. But clearly, there's a lot going on here: phone numbers, emails, website URLs, money amounts, and gratuitous whitespace and punctuation. Some terms are randomly capitalized, others are in all-caps. Since these terms might show up in any one of the training examples in countless forms, we need a way to ensure each training example is on an equal footing via a preprocessing step called **normalization**. \n",
    "\n",
    "To detect spam messages we don't want the computer to know or remember which email address or phone number was previously used in a spam message. We want the computer to understand **the pattern** of a spammy message. For example, if the message contains a lot of money amounts, words like \"congratulations\", \"you won\", AND an email address, it should be more likely to be considered spam. Again, we do not care what was the particular email address.\n",
    "\n",
    "So instead of removing the following terms, for each training example, let's replace them with a specific string.\n",
    "\n",
    "- Replace email addresses with `emailaddr`\n",
    "- Replace URLs with `httpaddr`\n",
    "- Replace money symbols with `moneysymb`\n",
    "- Replace phone numbers with `phonenumbr`\n",
    "- Replace numbers with `numbr`\n",
    "- get rid of all other punctuations"
   ]
  },
  {
   "cell_type": "code",
   "execution_count": 9,
   "metadata": {},
   "outputs": [],
   "source": [
    "def normalisation_sms(raw_text):\n",
    "    cleaned = re.sub(r'\\b[\\w\\-.]+?@\\w+?\\.\\w{2,4}\\b', 'emailaddr', raw_text)\n",
    "    cleaned = re.sub(r'(http[s]?\\S+)|(\\w+\\.[A-Za-z]{2,4}\\S*)', 'httpaddr',\n",
    "                     cleaned)\n",
    "    cleaned = re.sub(r'£|\\$|\\€', 'moneysymb ', cleaned) #add whitespace\n",
    "    cleaned = re.sub(\n",
    "        r'\\b(\\+\\d{1,2}\\s)?\\d?[\\-(.]?\\d{3}\\)?[\\s.-]?\\d{3}[\\s.-]?\\d{4}\\b',\n",
    "        'phonenumbr', cleaned)\n",
    "    cleaned = re.sub(r'\\d+(\\.\\d+)?', 'numbr', cleaned)\n",
    "    letters_only_text = re.sub(\"[^a-zA-Z]\", \" \", cleaned)\n",
    "    return letters_only_text"
   ]
  },
  {
   "cell_type": "code",
   "execution_count": 10,
   "metadata": {},
   "outputs": [
    {
     "data": {
      "text/plain": [
       "'      CONGRATlations      You won numbr tIckETs to Hamilton in  NYC httpaddr   wORtH over moneysymb numbr   CALL  phonenumbr or send message to  emailaddr to get ticket     '"
      ]
     },
     "execution_count": 10,
     "metadata": {},
     "output_type": "execute_result"
    }
   ],
   "source": [
    "normalisation_sms(sms_sample)"
   ]
  },
  {
   "cell_type": "markdown",
   "metadata": {},
   "source": [
    "### 3.4 Tokenisation\n",
    "Tokenisation is the process of splitting a sentence into words (tokens).\n",
    "\n",
    "As you remember, in the previous notebook we used the `.split()` method which may be helpful in this case. Let's see an easy example:"
   ]
  },
  {
   "cell_type": "code",
   "execution_count": 11,
   "metadata": {},
   "outputs": [
    {
     "name": "stdout",
     "output_type": "stream",
     "text": [
      "['A', 'bad', 'day', 'in', 'London', 'is', 'still', 'better', 'than', 'a', 'bad', 'day', 'anywhere', 'else']\n"
     ]
    }
   ],
   "source": [
    "print(\"A bad day in London is still better than a bad day anywhere else\".split())"
   ]
  },
  {
   "cell_type": "markdown",
   "metadata": {},
   "source": [
    "Now, this sentence has been broken down to 14 tokens of 12 unique types (token 'A' is not the same as token 'a'). \n",
    "\n",
    "This example divides the individual entities but doesn't get rid of the capitalism involved (no pun intended). Capitalization and De-capitalisation are again, dependent on the data and the task at hand.\n",
    "\n",
    "In this case, it seems reasonable to de-capitalize text. Converting the uppercase 'A' to lowercase is a good idea since it has the same meaning as 'a'. Let's do it!"
   ]
  },
  {
   "cell_type": "code",
   "execution_count": 12,
   "metadata": {},
   "outputs": [
    {
     "name": "stdout",
     "output_type": "stream",
     "text": [
      "['a', 'bad', 'day', 'in', 'london', 'is', 'still', 'better', 'than', 'a', 'bad', 'day', 'anywhere', 'else']\n"
     ]
    }
   ],
   "source": [
    "print(\"A bad day in London is still better than a bad day anywhere else\".lower().split())"
   ]
  },
  {
   "cell_type": "markdown",
   "metadata": {},
   "source": [
    "Ok, so we have changed all characters to lowercase but is it better now? Look what happened to \"London\" - its first letter changed as well. This is a good example of when de-capitalization may not be the best solution. Imagine that there exists an item called \"london\". Because of this, the NLP algorithm developed further may confuse the city of London with the item \"london\". \n",
    "\n",
    "So if we want to differentiate between any sentiments, then something written in uppercase might mean something different than something written in lowercase. \n",
    "\n",
    "Note that in the example above there was no punctuation. Let's see what happens in the following case."
   ]
  },
  {
   "cell_type": "code",
   "execution_count": 13,
   "metadata": {},
   "outputs": [
    {
     "name": "stdout",
     "output_type": "stream",
     "text": [
      "['a', 'bad', 'day', 'in', 'london,', 'is', 'still', 'better', 'than', 'a', 'bad', 'day', 'anywhere', 'else!', 'london', 'is', 'the', 'capital', 'of', 'the', 'uk.']\n"
     ]
    }
   ],
   "source": [
    "print(\"A bad day in London, is still better than a bad day anywhere else! London is the capital of the UK.\".lower().split())"
   ]
  },
  {
   "cell_type": "markdown",
   "metadata": {},
   "source": [
    "'London' and 'London,' are not the same thing! Of course, people are smart enough to understand that both tokens have the same meaning. However, computer algorithms looking for *patterns* may treat these two tokes as totally different and unrelated things.\n",
    "\n",
    "The simplest solution would be to remove all the punctuation but as we said earlier, this may lead to the loss of meaning/sentiment. Is there any clever way we can solve this issue and keep punctuation? Yes! We can use regular expressions to match the word boundaries and treat punctuation as separate tokens."
   ]
  },
  {
   "cell_type": "code",
   "execution_count": 14,
   "metadata": {},
   "outputs": [
    {
     "name": "stdout",
     "output_type": "stream",
     "text": [
      "['a', 'bad', 'day', 'in', 'london', ',', 'is', 'still', 'better', 'than', 'a', 'bad', 'day', 'anywhere', 'else', '!', 'london', 'is', 'the', 'capital', 'of', 'the', 'uk', '.']\n"
     ]
    }
   ],
   "source": [
    "print(re.findall(r'\\b\\w+\\b|[^\\w ]', \"A bad day in London, is still better than a bad day anywhere else! London is the capital of the UK.\".lower()))"
   ]
  },
  {
   "cell_type": "markdown",
   "metadata": {},
   "source": [
    "Cool, this seems to work. How about this one?"
   ]
  },
  {
   "cell_type": "code",
   "execution_count": 15,
   "metadata": {},
   "outputs": [
    {
     "name": "stdout",
     "output_type": "stream",
     "text": [
      "['Although', 'I', 'do', 'like', 'rain', ',', 'I', 'don', \"'\", 't', 'like', 'this', 'stormy', 'weather', '!']\n"
     ]
    }
   ],
   "source": [
    "print(re.findall(r'\\b\\w+\\b|[^\\w ]', \"Although I do like rain, I don't like this stormy weather!\"))"
   ]
  },
  {
   "cell_type": "markdown",
   "metadata": {},
   "source": [
    "Look what happened to \"don't\". It has been treated as two words split with the apostrophe. Since \"don't\" is the negation of \"do\", it would be natural to split \"don't\" somehow differently, showing that fact. So let's create a rule, that every \"don't\" will be split to \"do\" and \"n't\". But what with \"can't\" or \"shouldn't\"? Or even totally different words containing apostrophes like \"students'\"?  \n",
    "\n",
    "As you can see, we have to develop rules for multiple cases - quite boring and time-consuming. This is why we introduce another Python module called `nltk` - Natural Language Toolkit. This module contains many useful text processing tools including tokenizers. Let's see how it works."
   ]
  },
  {
   "cell_type": "code",
   "execution_count": 16,
   "metadata": {},
   "outputs": [
    {
     "name": "stderr",
     "output_type": "stream",
     "text": [
      "[nltk_data] Downloading package punkt to /home/lisanka/nltk_data...\n",
      "[nltk_data]   Package punkt is already up-to-date!\n",
      "[nltk_data] Downloading package stopwords to\n",
      "[nltk_data]     /home/lisanka/nltk_data...\n",
      "[nltk_data]   Package stopwords is already up-to-date!\n",
      "[nltk_data] Downloading package wordnet to /home/lisanka/nltk_data...\n",
      "[nltk_data]   Package wordnet is already up-to-date!\n"
     ]
    },
    {
     "data": {
      "text/plain": [
       "True"
      ]
     },
     "execution_count": 16,
     "metadata": {},
     "output_type": "execute_result"
    }
   ],
   "source": [
    "import nltk \n",
    "nltk.download('punkt')\n",
    "nltk.download('stopwords')\n",
    "nltk.download('wordnet')"
   ]
  },
  {
   "cell_type": "code",
   "execution_count": 17,
   "metadata": {},
   "outputs": [
    {
     "name": "stdout",
     "output_type": "stream",
     "text": [
      "['I', 'do', \"n't\", 'like', 'stormy', 'weather', 'after', '8', \"o'clock\", 'in', 'the', 'evening', '!']\n"
     ]
    }
   ],
   "source": [
    "from nltk.tokenize import word_tokenize\n",
    "\n",
    "print(word_tokenize(\"I don't like stormy weather after 8 o'clock in the evening!\"))"
   ]
  },
  {
   "cell_type": "markdown",
   "metadata": {},
   "source": [
    "As you can see `word_tokenizer` does exactly what we want! Nltk provides also different tokenizers for different types of input. Let's compare the `word_tokenize` with `TweetTokenizer`, which has been designed to work better with Twitter-type source texts (including hashtags, mentions, etc.)."
   ]
  },
  {
   "cell_type": "code",
   "execution_count": 18,
   "metadata": {},
   "outputs": [
    {
     "name": "stdout",
     "output_type": "stream",
     "text": [
      "['Hey', '@', 'everyone', ',', 'this', 'is', 'a', 'sample', '#', 'Twitter', 'text', 'containing', 'some', 'emojis', ':', ')', ')', ')', '!', '!', '!', 'Have', 'fun', '<', '3', '!']\n",
      "['Hey', '@everyone', ',', 'this', 'is', 'a', 'sample', '#Twitter', 'text', 'containing', 'some', 'emojis', ':)', ')', ')', '!', '!', '!', 'Have', 'fun', '<3', '!']\n"
     ]
    }
   ],
   "source": [
    "from nltk.tokenize import TweetTokenizer\n",
    "tt = TweetTokenizer()\n",
    "\n",
    "print(word_tokenize(\"Hey @everyone, this is a sample #Twitter text containing some emojis :))) !!! Have fun <3 !\"))\n",
    "print(tt.tokenize(\"Hey @everyone, this is a sample #Twitter text containing some emojis :))) !!! Have fun <3 !\"))"
   ]
  },
  {
   "cell_type": "markdown",
   "metadata": {},
   "source": [
    "### 3.5 Stopword removal\n",
    "\n",
    "Stopwords are the words that are used very frequently. Words like “of, are, the, it, is” are some examples of stopwords. In applications like document search engines and document classification, where keywords are more important than general terms, removing stopwords can be a good idea. However, if there’s some application about, for instance, songs lyrics search, or searching for specific quotes, stopwords can be important. \n",
    "\n",
    "“To be, or not to be” - Stopwords in such phrases actually play an important role, and hence, should not be dropped.\n",
    "\n",
    "Another example is negation. \"not\" is contained in many stopword lists, but deleting \"not\" out of a negative review can make a positive out of it.\n",
    "\n",
    "There are two common approaches to removing the stopwords, and both are fairly straightforward. One way is to count all the word occurrences, and providing a threshold value on the count, and getting rid of all the terms/words occurring more than the specified threshold value. The other way is to have a predetermined list of stopwords, which can be removed from the list of tokens/tokenized sentences. In the beginning, the second one may be better, as determining thresholds can be quite difficult.\n",
    "\n",
    "NLTK comes with many corpora, including a stopword list. This list contains around 200 terms. However, you may want to use one that contains over 600 terms: [http://www.ai.mit.edu/projects/jmlr/papers/volume5/lewis04a/a11-smart-stop-list/english.stop](http://www.ai.mit.edu/projects/jmlr/papers/volume5/lewis04a/a11-smart-stop-list/english.stop) (Apostrophes have been removed as it has been done for the news articles)"
   ]
  },
  {
   "cell_type": "markdown",
   "metadata": {},
   "source": [
    "Ok, let's see how we can remove stopwords from the news article sample"
   ]
  },
  {
   "cell_type": "code",
   "execution_count": 19,
   "metadata": {},
   "outputs": [
    {
     "name": "stdout",
     "output_type": "stream",
     "text": [
      "['a', 'as', 'able', 'about', 'above', 'according', 'accordingly', 'across', 'actually', 'after']\n"
     ]
    }
   ],
   "source": [
    "# Firstly, let's read the stopwords file\n",
    "\n",
    "stop_words = []\n",
    "\n",
    "''' uncomment if you are running this notebook locally '''\n",
    "# with open(\"./datasets/SmartStoplist.txt\", 'r') as f:\n",
    "#     stop_words.extend(f.read().splitlines())\n",
    "\n",
    "''' uncomment if you are using google colab '''\n",
    "import urllib\n",
    "with urllib.request.urlopen(\"https://raw.githubusercontent.com/TheRootOf3/ucl-nlp-notebook-series/main/Notebook2/datasets/SmartStoplist.txt\") as f:\n",
    "    stop_words.extend(f.read().decode('utf-8').splitlines())\n",
    "\n",
    "    \n",
    "print(stop_words[:10])  # First 10 stopwords"
   ]
  },
  {
   "cell_type": "code",
   "execution_count": 20,
   "metadata": {},
   "outputs": [],
   "source": [
    "# We can remove stopwords using our stopwords list, or...\n",
    "nltk_tokens = word_tokenize(news_sample)\n",
    "filtered_sentence_smart = [w for w in nltk_tokens if not w in stop_words]\n",
    "\n",
    "\n",
    "# ...again, we can use nltk builtin stopwords feature\n",
    "from nltk.corpus import stopwords\n",
    "\n",
    "stop_words_nltk = set(stopwords.words('english'))\n",
    "filtered_sentence_nltk = [w for w in nltk_tokens if not w in stop_words_nltk]"
   ]
  },
  {
   "cell_type": "code",
   "execution_count": 21,
   "metadata": {},
   "outputs": [
    {
     "name": "stdout",
     "output_type": "stream",
     "text": [
      "worldcom ex-boss launches defence lawyers defending former worldcom chief bernie ebbers against a battery of fraud charges have called a company whistleblower as their first witness.  cynthia cooper  worldcom s ex-head of internal accounting  alerted directors to irregular accounting practices at the us telecoms giant in 2002. her warnings led to the collapse of the firm following the discovery of an $11bn (┬ú5.7bn) accounting fraud. mr ebbers has pleaded not guilty to charges of fraud and conspiracy.  prosecution lawyers have argued that mr ebbers orchestrated a series of accounting tricks at worldcom  ordering employees to hide expenses and inflate revenues to meet wall street earnings estimates. but ms cooper  who now runs her own consulting business  told a jury in new york on wednesday that external auditors arthur andersen had approved worldcom s accounting in early 2001 and 2002. she said andersen had given a  green light  to the procedures and practices used by worldcom. mr ebber s lawyers have said he was unaware of the fraud  arguing that auditors did not alert him to any problems.  ms cooper also said that during shareholder meetings mr ebbers often passed over technical questions to the company s finance chief  giving only  brief  answers himself. the prosecution s star witness  former worldcom financial chief scott sullivan  has said that mr ebbers ordered accounting adjustments at the firm  telling him to  hit our books . however  ms cooper said mr sullivan had not mentioned  anything uncomfortable  about worldcom s accounting during a 2001 audit committee meeting. mr ebbers could face a jail sentence of 85 years if convicted of all the charges he is facing. worldcom emerged from bankruptcy protection in 2004  and is now known as mci. last week  mci agreed to a buyout by verizon communications in a deal valued at $6.75bn.\n"
     ]
    }
   ],
   "source": [
    "print(news_sample)"
   ]
  },
  {
   "cell_type": "code",
   "execution_count": 22,
   "metadata": {},
   "outputs": [
    {
     "name": "stdout",
     "output_type": "stream",
     "text": [
      "['worldcom', 'ex-boss', 'launches', 'defence', 'lawyers', 'defending', 'former', 'worldcom', 'chief', 'bernie', 'ebbers', 'battery', 'fraud', 'charges', 'called', 'company', 'whistleblower', 'first', 'witness', '.', 'cynthia', 'cooper', 'worldcom', 'ex-head', 'internal', 'accounting', 'alerted', 'directors', 'irregular', 'accounting', 'practices', 'us', 'telecoms', 'giant', '2002.', 'warnings', 'led', 'collapse', 'firm', 'following', 'discovery', '$', '11bn', '(', '┬ú5.7bn', ')', 'accounting', 'fraud', '.', 'mr', 'ebbers', 'pleaded', 'guilty', 'charges', 'fraud', 'conspiracy', '.', 'prosecution', 'lawyers', 'argued', 'mr', 'ebbers', 'orchestrated', 'series', 'accounting', 'tricks', 'worldcom', 'ordering', 'employees', 'hide', 'expenses', 'inflate', 'revenues', 'meet', 'wall', 'street', 'earnings', 'estimates', '.', 'ms', 'cooper', 'runs', 'consulting', 'business', 'told', 'jury', 'new', 'york', 'wednesday', 'external', 'auditors', 'arthur', 'andersen', 'approved', 'worldcom', 'accounting', 'early', '2001', '2002.', 'said', 'andersen', 'given', 'green', 'light', 'procedures', 'practices', 'used', 'worldcom', '.', 'mr', 'ebber', 'lawyers', 'said', 'unaware', 'fraud', 'arguing', 'auditors', 'alert', 'problems', '.', 'ms', 'cooper', 'also', 'said', 'shareholder', 'meetings', 'mr', 'ebbers', 'often', 'passed', 'technical', 'questions', 'company', 'finance', 'chief', 'giving', 'brief', 'answers', '.', 'prosecution', 'star', 'witness', 'former', 'worldcom', 'financial', 'chief', 'scott', 'sullivan', 'said', 'mr', 'ebbers', 'ordered', 'accounting', 'adjustments', 'firm', 'telling', 'hit', 'books', '.', 'however', 'ms', 'cooper', 'said', 'mr', 'sullivan', 'mentioned', 'anything', 'uncomfortable', 'worldcom', 'accounting', '2001', 'audit', 'committee', 'meeting', '.', 'mr', 'ebbers', 'could', 'face', 'jail', 'sentence', '85', 'years', 'convicted', 'charges', 'facing', '.', 'worldcom', 'emerged', 'bankruptcy', 'protection', '2004', 'known', 'mci', '.', 'last', 'week', 'mci', 'agreed', 'buyout', 'verizon', 'communications', 'deal', 'valued', '$', '6.75bn', '.']\n"
     ]
    }
   ],
   "source": [
    "print(filtered_sentence_nltk)"
   ]
  },
  {
   "cell_type": "code",
   "execution_count": 23,
   "metadata": {},
   "outputs": [
    {
     "name": "stdout",
     "output_type": "stream",
     "text": [
      "['worldcom', 'ex-boss', 'launches', 'defence', 'lawyers', 'defending', 'worldcom', 'chief', 'bernie', 'ebbers', 'battery', 'fraud', 'charges', 'called', 'company', 'whistleblower', 'witness', '.', 'cynthia', 'cooper', 'worldcom', 'ex-head', 'internal', 'accounting', 'alerted', 'directors', 'irregular', 'accounting', 'practices', 'telecoms', 'giant', '2002.', 'warnings', 'led', 'collapse', 'firm', 'discovery', '$', '11bn', '(', '┬ú5.7bn', ')', 'accounting', 'fraud', '.', 'mr', 'ebbers', 'pleaded', 'guilty', 'charges', 'fraud', 'conspiracy', '.', 'prosecution', 'lawyers', 'argued', 'mr', 'ebbers', 'orchestrated', 'series', 'accounting', 'tricks', 'worldcom', 'ordering', 'employees', 'hide', 'expenses', 'inflate', 'revenues', 'meet', 'wall', 'street', 'earnings', 'estimates', '.', 'ms', 'cooper', 'runs', 'consulting', 'business', 'told', 'jury', 'york', 'wednesday', 'external', 'auditors', 'arthur', 'andersen', 'approved', 'worldcom', 'accounting', 'early', '2001', '2002.', 'andersen', 'green', 'light', 'procedures', 'practices', 'worldcom', '.', 'mr', 'ebber', 'lawyers', 'unaware', 'fraud', 'arguing', 'auditors', 'alert', 'problems', '.', 'ms', 'cooper', 'shareholder', 'meetings', 'mr', 'ebbers', 'passed', 'technical', 'questions', 'company', 'finance', 'chief', 'giving', 'answers', '.', 'prosecution', 'star', 'witness', 'worldcom', 'financial', 'chief', 'scott', 'sullivan', 'mr', 'ebbers', 'ordered', 'accounting', 'adjustments', 'firm', 'telling', 'hit', 'books', '.', 'ms', 'cooper', 'mr', 'sullivan', 'mentioned', 'uncomfortable', 'worldcom', 'accounting', '2001', 'audit', 'committee', 'meeting', '.', 'mr', 'ebbers', 'face', 'jail', 'sentence', '85', 'years', 'convicted', 'charges', 'facing', '.', 'worldcom', 'emerged', 'bankruptcy', 'protection', '2004', 'mci', '.', 'week', 'mci', 'agreed', 'buyout', 'verizon', 'communications', 'deal', 'valued', '$', '6.75bn', '.']\n"
     ]
    }
   ],
   "source": [
    "print(filtered_sentence_smart)"
   ]
  },
  {
   "cell_type": "markdown",
   "metadata": {},
   "source": [
    "### 3.6 Lemmatising and Stemming\n",
    "Lemmatisation and stemming both refer to a process of reducing a word to its root. The difference is that stem might not be an actual word whereas, a lemma is an actual word. It’s a handy tool if you want to avoid treating different forms of the same word as different words, e.g. *love, loved, loving*\n",
    "\n",
    "**Lemmatising:** considered, considers, consider → “consider”\n",
    "\n",
    "**Stemming:** considered, considering, consider → “consid”\n",
    "\n",
    "In many applications, there may be no significant difference between lemmatising and stemming when training classifiers. However, the best way to find out how they work and when to use which solution is to try them! NLTK comes with many different in-built lemmatisers and stemmers, so just plug and play.\n",
    "\n",
    "A note of caution: WordNetLemmatizer requires a POS-tag. The default is set to \"noun\" and therefore doesn't work with other words."
   ]
  },
  {
   "cell_type": "code",
   "execution_count": 24,
   "metadata": {},
   "outputs": [
    {
     "name": "stdout",
     "output_type": "stream",
     "text": [
      "consid\n",
      "considers\n"
     ]
    }
   ],
   "source": [
    "from nltk.stem import WordNetLemmatizer, PorterStemmer, SnowballStemmer\n",
    "\n",
    "stemmer = PorterStemmer()\n",
    "lemmatizer = WordNetLemmatizer()\n",
    "\n",
    "word = \"considers\"\n",
    "word_2 = \"apple\"\n",
    "\n",
    "stemmed_word =  stemmer.stem(word)\n",
    "lemmatised_word = lemmatizer.lemmatize(word)\n",
    "\n",
    "stemmed_word_2 =  stemmer.stem(word_2)\n",
    "lemmatised_word_2 = lemmatizer.lemmatize(word_2)\n",
    "\n",
    "print(stemmed_word)\n",
    "print(lemmatised_word)"
   ]
  },
  {
   "cell_type": "code",
   "execution_count": 25,
   "metadata": {},
   "outputs": [
    {
     "name": "stdout",
     "output_type": "stream",
     "text": [
      "appl\n",
      "apple\n"
     ]
    }
   ],
   "source": [
    "print(stemmed_word_2)\n",
    "print(lemmatised_word_2)"
   ]
  },
  {
   "cell_type": "markdown",
   "metadata": {},
   "source": [
    "### 3.7 Putting it all together\n",
    "Now that we covered everything we need to know, we can combine everything into one function and apply it to the whole data. Let's keep it simple and write one for the news articles"
   ]
  },
  {
   "cell_type": "code",
   "execution_count": 26,
   "metadata": {},
   "outputs": [],
   "source": [
    "def preprocess_news(raw_text):\n",
    "    \n",
    "    #keeping only letters\n",
    "    letters_only_text = re.sub(\"[^a-zA-Z]\", \" \", raw_text)\n",
    "\n",
    "    # convert to lower case and tokenise\n",
    "    tokens = word_tokenize(letters_only_text.lower())\n",
    "    \n",
    "\n",
    "    cleaned_words = []\n",
    "    stemmer = PorterStemmer()\n",
    "    \n",
    "    # remove stopwords\n",
    "    for word in tokens:\n",
    "        if word not in stop_words:\n",
    "            cleaned_words.append(word)\n",
    "    \n",
    "    # stemm or lemmatise words\n",
    "    stemmed_words = []\n",
    "    for word in cleaned_words:\n",
    "        word = stemmer.stem(word)\n",
    "        stemmed_words.append(word)\n",
    "    \n",
    "    # converting list back to string\n",
    "    return \" \".join(stemmed_words)"
   ]
  },
  {
   "cell_type": "code",
   "execution_count": 27,
   "metadata": {},
   "outputs": [
    {
     "data": {
      "text/plain": [
       "'worldcom ex-boss launches defence lawyers defending former worldcom chief bernie ebbers against a battery of fraud charges have called a company whistleblower as their first witness.  cynthia cooper  worldcom s ex-head of internal accounting  alerted directors to irregular accounting practices at the us telecoms giant in 2002. her warnings led to the collapse of the firm following the discovery of an $11bn (┬ú5.7bn) accounting fraud. mr ebbers has pleaded not guilty to charges of fraud and conspiracy.  prosecution lawyers have argued that mr ebbers orchestrated a series of accounting tricks at worldcom  ordering employees to hide expenses and inflate revenues to meet wall street earnings estimates. but ms cooper  who now runs her own consulting business  told a jury in new york on wednesday that external auditors arthur andersen had approved worldcom s accounting in early 2001 and 2002. she said andersen had given a  green light  to the procedures and practices used by worldcom. mr ebber s lawyers have said he was unaware of the fraud  arguing that auditors did not alert him to any problems.  ms cooper also said that during shareholder meetings mr ebbers often passed over technical questions to the company s finance chief  giving only  brief  answers himself. the prosecution s star witness  former worldcom financial chief scott sullivan  has said that mr ebbers ordered accounting adjustments at the firm  telling him to  hit our books . however  ms cooper said mr sullivan had not mentioned  anything uncomfortable  about worldcom s accounting during a 2001 audit committee meeting. mr ebbers could face a jail sentence of 85 years if convicted of all the charges he is facing. worldcom emerged from bankruptcy protection in 2004  and is now known as mci. last week  mci agreed to a buyout by verizon communications in a deal valued at $6.75bn.'"
      ]
     },
     "execution_count": 27,
     "metadata": {},
     "output_type": "execute_result"
    }
   ],
   "source": [
    "news_sample"
   ]
  },
  {
   "cell_type": "code",
   "execution_count": 28,
   "metadata": {},
   "outputs": [
    {
     "data": {
      "text/plain": [
       "'worldcom boss launch defenc lawyer defend worldcom chief berni ebber batteri fraud charg call compani whistleblow wit cynthia cooper worldcom head intern account alert director irregular account practic telecom giant warn led collaps firm discoveri bn bn account fraud mr ebber plead guilti charg fraud conspiraci prosecut lawyer argu mr ebber orchestr seri account trick worldcom order employe hide expens inflat revenu meet wall street earn estim ms cooper run consult busi told juri york wednesday extern auditor arthur andersen approv worldcom account earli andersen green light procedur practic worldcom mr ebber lawyer unawar fraud argu auditor alert problem ms cooper sharehold meet mr ebber pass technic question compani financ chief give answer prosecut star wit worldcom financi chief scott sullivan mr ebber order account adjust firm tell hit book ms cooper mr sullivan mention uncomfort worldcom account audit committe meet mr ebber face jail sentenc year convict charg face worldcom emerg bankruptci protect mci week mci agre buyout verizon commun deal valu bn'"
      ]
     },
     "execution_count": 28,
     "metadata": {},
     "output_type": "execute_result"
    }
   ],
   "source": [
    "preprocess_news(news_sample)"
   ]
  },
  {
   "cell_type": "code",
   "execution_count": 29,
   "metadata": {},
   "outputs": [
    {
     "name": "stderr",
     "output_type": "stream",
     "text": [
      "<ipython-input-29-3ca65b5d348b>:1: SettingWithCopyWarning: \n",
      "A value is trying to be set on a copy of a slice from a DataFrame.\n",
      "Try using .loc[row_indexer,col_indexer] = value instead\n",
      "\n",
      "See the caveats in the documentation: https://pandas.pydata.org/pandas-docs/stable/user_guide/indexing.html#returning-a-view-versus-a-copy\n",
      "  news_df['prep_text'] = news_df['text'].apply(preprocess_news)\n"
     ]
    },
    {
     "data": {
      "text/html": [
       "<div>\n",
       "<style scoped>\n",
       "    .dataframe tbody tr th:only-of-type {\n",
       "        vertical-align: middle;\n",
       "    }\n",
       "\n",
       "    .dataframe tbody tr th {\n",
       "        vertical-align: top;\n",
       "    }\n",
       "\n",
       "    .dataframe thead th {\n",
       "        text-align: right;\n",
       "    }\n",
       "</style>\n",
       "<table border=\"1\" class=\"dataframe\">\n",
       "  <thead>\n",
       "    <tr style=\"text-align: right;\">\n",
       "      <th></th>\n",
       "      <th>type</th>\n",
       "      <th>text</th>\n",
       "      <th>tag</th>\n",
       "      <th>prep_text</th>\n",
       "    </tr>\n",
       "  </thead>\n",
       "  <tbody>\n",
       "    <tr>\n",
       "      <th>20</th>\n",
       "      <td>news_article</td>\n",
       "      <td>worldcom ex-boss launches defence lawyers defe...</td>\n",
       "      <td>business</td>\n",
       "      <td>worldcom boss launch defenc lawyer defend worl...</td>\n",
       "    </tr>\n",
       "    <tr>\n",
       "      <th>21</th>\n",
       "      <td>news_article</td>\n",
       "      <td>german business confidence slides german busin...</td>\n",
       "      <td>business</td>\n",
       "      <td>german busi confid slide german busi confid fe...</td>\n",
       "    </tr>\n",
       "    <tr>\n",
       "      <th>22</th>\n",
       "      <td>news_article</td>\n",
       "      <td>bbc poll indicates economic gloom citizens in ...</td>\n",
       "      <td>business</td>\n",
       "      <td>bbc poll econom gloom citizen major nation sur...</td>\n",
       "    </tr>\n",
       "    <tr>\n",
       "      <th>23</th>\n",
       "      <td>news_article</td>\n",
       "      <td>lifestyle  governs mobile choice  faster  bett...</td>\n",
       "      <td>tech</td>\n",
       "      <td>lifestyl govern mobil choic faster funkier har...</td>\n",
       "    </tr>\n",
       "    <tr>\n",
       "      <th>24</th>\n",
       "      <td>news_article</td>\n",
       "      <td>enron bosses in $168m payout eighteen former e...</td>\n",
       "      <td>business</td>\n",
       "      <td>enron boss payout eighteen enron director agre...</td>\n",
       "    </tr>\n",
       "    <tr>\n",
       "      <th>25</th>\n",
       "      <td>news_article</td>\n",
       "      <td>howard  truanted to play snooker  conservative...</td>\n",
       "      <td>politics</td>\n",
       "      <td>howard truant play snooker conserv leader mich...</td>\n",
       "    </tr>\n",
       "    <tr>\n",
       "      <th>26</th>\n",
       "      <td>news_article</td>\n",
       "      <td>wales silent on grand slam talk rhys williams ...</td>\n",
       "      <td>sport</td>\n",
       "      <td>wale silent grand slam talk rhi william wale t...</td>\n",
       "    </tr>\n",
       "    <tr>\n",
       "      <th>27</th>\n",
       "      <td>news_article</td>\n",
       "      <td>french honour for director parker british film...</td>\n",
       "      <td>entertainment</td>\n",
       "      <td>french honour director parker british film dir...</td>\n",
       "    </tr>\n",
       "    <tr>\n",
       "      <th>28</th>\n",
       "      <td>news_article</td>\n",
       "      <td>car giant hit by mercedes slump a slump in pro...</td>\n",
       "      <td>business</td>\n",
       "      <td>car giant hit merced slump slump profit luxuri...</td>\n",
       "    </tr>\n",
       "    <tr>\n",
       "      <th>29</th>\n",
       "      <td>news_article</td>\n",
       "      <td>fockers fuel festive film chart comedy meet th...</td>\n",
       "      <td>entertainment</td>\n",
       "      <td>focker fuel festiv film chart comedi meet fock...</td>\n",
       "    </tr>\n",
       "  </tbody>\n",
       "</table>\n",
       "</div>"
      ],
      "text/plain": [
       "            type                                               text  \\\n",
       "20  news_article  worldcom ex-boss launches defence lawyers defe...   \n",
       "21  news_article  german business confidence slides german busin...   \n",
       "22  news_article  bbc poll indicates economic gloom citizens in ...   \n",
       "23  news_article  lifestyle  governs mobile choice  faster  bett...   \n",
       "24  news_article  enron bosses in $168m payout eighteen former e...   \n",
       "25  news_article  howard  truanted to play snooker  conservative...   \n",
       "26  news_article  wales silent on grand slam talk rhys williams ...   \n",
       "27  news_article  french honour for director parker british film...   \n",
       "28  news_article  car giant hit by mercedes slump a slump in pro...   \n",
       "29  news_article  fockers fuel festive film chart comedy meet th...   \n",
       "\n",
       "              tag                                          prep_text  \n",
       "20       business  worldcom boss launch defenc lawyer defend worl...  \n",
       "21       business  german busi confid slide german busi confid fe...  \n",
       "22       business  bbc poll econom gloom citizen major nation sur...  \n",
       "23           tech  lifestyl govern mobil choic faster funkier har...  \n",
       "24       business  enron boss payout eighteen enron director agre...  \n",
       "25       politics  howard truant play snooker conserv leader mich...  \n",
       "26          sport  wale silent grand slam talk rhi william wale t...  \n",
       "27  entertainment  french honour director parker british film dir...  \n",
       "28       business  car giant hit merced slump slump profit luxuri...  \n",
       "29  entertainment  focker fuel festiv film chart comedi meet fock...  "
      ]
     },
     "execution_count": 29,
     "metadata": {},
     "output_type": "execute_result"
    }
   ],
   "source": [
    "news_df['prep_text'] = news_df['text'].apply(preprocess_news)\n",
    "news_df"
   ]
  },
  {
   "cell_type": "markdown",
   "metadata": {},
   "source": [
    "---"
   ]
  },
  {
   "cell_type": "markdown",
   "metadata": {},
   "source": [
    "## 4. Part-of-speech tagging and Named-entity recognition\n",
    "\n",
    "One may be interested not only in lexical features or pattern based features like punctuation or upper/lower case letters but also in semantic features in the source. This may be for example detecting verbs or searching for location names (\"London\", \"New York\", etc.).\n",
    "- **POS tagging** - determining the lexical type of a given token (verb, noun, etc.) \n",
    "- **NER** - identifying and classifying named-entities into general groups (person name, money amount, time)\n",
    "\n",
    "To understand both tasks let's look at the simple example. Let's say we have a following sentence \"John visited US in 2020.\".\n",
    "\n",
    "| Operation | Output |\n",
    "|-----------|--------|\n",
    "| Raw text | John   visited   US   in   2020  . |\n",
    "| POS tags | John<sub>proper noun</sub>   visited<sub>verb</sub>   US<sub>proper noun</sub>   in<sub>adposition</sub>   2020<sub>number</sub>  .<sub>punctuation</sub> |\n",
    "| NER | John<sub>Person</sub>   visited   US<sub>Country</sub>   in   2020<sub>Time</sub>  . |\n",
    "\n",
    "Now, let's try to do the same using another Python module called `spaCy`."
   ]
  },
  {
   "cell_type": "code",
   "execution_count": 30,
   "metadata": {},
   "outputs": [
    {
     "name": "stdout",
     "output_type": "stream",
     "text": [
      "Requirement already satisfied: en_core_web_sm==2.1.0 from https://github.com/explosion/spacy-models/releases/download/en_core_web_sm-2.1.0/en_core_web_sm-2.1.0.tar.gz#egg=en_core_web_sm==2.1.0 in /home/lisanka/anaconda3/envs/ml2021/lib/python3.8/site-packages (2.1.0)\n",
      "\u001b[38;5;2m✔ Download and installation successful\u001b[0m\n",
      "You can now load the model via spacy.load('en_core_web_sm')\n"
     ]
    }
   ],
   "source": [
    "# Run this cell to download spacy english language package\n",
    "! python3 -m spacy download en_core_web_sm"
   ]
  },
  {
   "cell_type": "code",
   "execution_count": 31,
   "metadata": {},
   "outputs": [],
   "source": [
    "import spacy\n",
    "\n",
    "# Firstly, we need to load the English language model\n",
    "model = spacy.load(\"en_core_web_sm\")\n",
    "\n",
    "sentence = \"John visited US in 2020.\"\n",
    "doc = model(sentence)"
   ]
  },
  {
   "cell_type": "markdown",
   "metadata": {},
   "source": [
    "Now, let's see how does `spacy` tags these words with part-of-speech types:"
   ]
  },
  {
   "cell_type": "code",
   "execution_count": 32,
   "metadata": {},
   "outputs": [
    {
     "name": "stdout",
     "output_type": "stream",
     "text": [
      "John PROPN\n",
      "visited VERB\n",
      "US PROPN\n",
      "in ADP\n",
      "2020 NUM\n",
      ". PUNCT\n"
     ]
    }
   ],
   "source": [
    "for token in doc:\n",
    "    print(token, token.pos_)"
   ]
  },
  {
   "cell_type": "markdown",
   "metadata": {},
   "source": [
    "If we would like to see those types and relations between word visually, `spacy` comes with a very handy method for doing so."
   ]
  },
  {
   "cell_type": "code",
   "execution_count": 33,
   "metadata": {},
   "outputs": [
    {
     "data": {
      "text/html": [
       "<svg xmlns=\"http://www.w3.org/2000/svg\" xmlns:xlink=\"http://www.w3.org/1999/xlink\" xml:lang=\"en\" id=\"fe05546112fe47738d41b1efc1f3133a-0\" class=\"displacy\" width=\"925\" height=\"312.0\" direction=\"ltr\" style=\"max-width: none; height: 312.0px; color: #000000; background: #ffffff; font-family: Arial; direction: ltr\">\n",
       "<text class=\"displacy-token\" fill=\"currentColor\" text-anchor=\"middle\" y=\"222.0\">\n",
       "    <tspan class=\"displacy-word\" fill=\"currentColor\" x=\"50\">John</tspan>\n",
       "    <tspan class=\"displacy-tag\" dy=\"2em\" fill=\"currentColor\" x=\"50\">PROPN</tspan>\n",
       "</text>\n",
       "\n",
       "<text class=\"displacy-token\" fill=\"currentColor\" text-anchor=\"middle\" y=\"222.0\">\n",
       "    <tspan class=\"displacy-word\" fill=\"currentColor\" x=\"225\">visited</tspan>\n",
       "    <tspan class=\"displacy-tag\" dy=\"2em\" fill=\"currentColor\" x=\"225\">VERB</tspan>\n",
       "</text>\n",
       "\n",
       "<text class=\"displacy-token\" fill=\"currentColor\" text-anchor=\"middle\" y=\"222.0\">\n",
       "    <tspan class=\"displacy-word\" fill=\"currentColor\" x=\"400\">US</tspan>\n",
       "    <tspan class=\"displacy-tag\" dy=\"2em\" fill=\"currentColor\" x=\"400\">PROPN</tspan>\n",
       "</text>\n",
       "\n",
       "<text class=\"displacy-token\" fill=\"currentColor\" text-anchor=\"middle\" y=\"222.0\">\n",
       "    <tspan class=\"displacy-word\" fill=\"currentColor\" x=\"575\">in</tspan>\n",
       "    <tspan class=\"displacy-tag\" dy=\"2em\" fill=\"currentColor\" x=\"575\">ADP</tspan>\n",
       "</text>\n",
       "\n",
       "<text class=\"displacy-token\" fill=\"currentColor\" text-anchor=\"middle\" y=\"222.0\">\n",
       "    <tspan class=\"displacy-word\" fill=\"currentColor\" x=\"750\">2020.</tspan>\n",
       "    <tspan class=\"displacy-tag\" dy=\"2em\" fill=\"currentColor\" x=\"750\">NUM</tspan>\n",
       "</text>\n",
       "\n",
       "<g class=\"displacy-arrow\">\n",
       "    <path class=\"displacy-arc\" id=\"arrow-fe05546112fe47738d41b1efc1f3133a-0-0\" stroke-width=\"2px\" d=\"M70,177.0 C70,89.5 220.0,89.5 220.0,177.0\" fill=\"none\" stroke=\"currentColor\"/>\n",
       "    <text dy=\"1.25em\" style=\"font-size: 0.8em; letter-spacing: 1px\">\n",
       "        <textPath xlink:href=\"#arrow-fe05546112fe47738d41b1efc1f3133a-0-0\" class=\"displacy-label\" startOffset=\"50%\" side=\"left\" fill=\"currentColor\" text-anchor=\"middle\">nsubj</textPath>\n",
       "    </text>\n",
       "    <path class=\"displacy-arrowhead\" d=\"M70,179.0 L62,167.0 78,167.0\" fill=\"currentColor\"/>\n",
       "</g>\n",
       "\n",
       "<g class=\"displacy-arrow\">\n",
       "    <path class=\"displacy-arc\" id=\"arrow-fe05546112fe47738d41b1efc1f3133a-0-1\" stroke-width=\"2px\" d=\"M245,177.0 C245,89.5 395.0,89.5 395.0,177.0\" fill=\"none\" stroke=\"currentColor\"/>\n",
       "    <text dy=\"1.25em\" style=\"font-size: 0.8em; letter-spacing: 1px\">\n",
       "        <textPath xlink:href=\"#arrow-fe05546112fe47738d41b1efc1f3133a-0-1\" class=\"displacy-label\" startOffset=\"50%\" side=\"left\" fill=\"currentColor\" text-anchor=\"middle\">dobj</textPath>\n",
       "    </text>\n",
       "    <path class=\"displacy-arrowhead\" d=\"M395.0,179.0 L403.0,167.0 387.0,167.0\" fill=\"currentColor\"/>\n",
       "</g>\n",
       "\n",
       "<g class=\"displacy-arrow\">\n",
       "    <path class=\"displacy-arc\" id=\"arrow-fe05546112fe47738d41b1efc1f3133a-0-2\" stroke-width=\"2px\" d=\"M245,177.0 C245,2.0 575.0,2.0 575.0,177.0\" fill=\"none\" stroke=\"currentColor\"/>\n",
       "    <text dy=\"1.25em\" style=\"font-size: 0.8em; letter-spacing: 1px\">\n",
       "        <textPath xlink:href=\"#arrow-fe05546112fe47738d41b1efc1f3133a-0-2\" class=\"displacy-label\" startOffset=\"50%\" side=\"left\" fill=\"currentColor\" text-anchor=\"middle\">prep</textPath>\n",
       "    </text>\n",
       "    <path class=\"displacy-arrowhead\" d=\"M575.0,179.0 L583.0,167.0 567.0,167.0\" fill=\"currentColor\"/>\n",
       "</g>\n",
       "\n",
       "<g class=\"displacy-arrow\">\n",
       "    <path class=\"displacy-arc\" id=\"arrow-fe05546112fe47738d41b1efc1f3133a-0-3\" stroke-width=\"2px\" d=\"M595,177.0 C595,89.5 745.0,89.5 745.0,177.0\" fill=\"none\" stroke=\"currentColor\"/>\n",
       "    <text dy=\"1.25em\" style=\"font-size: 0.8em; letter-spacing: 1px\">\n",
       "        <textPath xlink:href=\"#arrow-fe05546112fe47738d41b1efc1f3133a-0-3\" class=\"displacy-label\" startOffset=\"50%\" side=\"left\" fill=\"currentColor\" text-anchor=\"middle\">pobj</textPath>\n",
       "    </text>\n",
       "    <path class=\"displacy-arrowhead\" d=\"M745.0,179.0 L753.0,167.0 737.0,167.0\" fill=\"currentColor\"/>\n",
       "</g>\n",
       "</svg>"
      ],
      "text/plain": [
       "<IPython.core.display.HTML object>"
      ]
     },
     "metadata": {},
     "output_type": "display_data"
    }
   ],
   "source": [
    "from spacy import displacy\n",
    "displacy.render(doc, jupyter=True)"
   ]
  },
  {
   "cell_type": "markdown",
   "metadata": {},
   "source": [
    "Now, how about named-entities? How can we identify and tag them?"
   ]
  },
  {
   "cell_type": "code",
   "execution_count": 34,
   "metadata": {},
   "outputs": [
    {
     "name": "stdout",
     "output_type": "stream",
     "text": [
      "John PERSON\n",
      "US GPE\n",
      "2020 DATE\n"
     ]
    }
   ],
   "source": [
    "for ent in doc.ents:\n",
    "    print(ent.text, ent.label_)"
   ]
  },
  {
   "cell_type": "markdown",
   "metadata": {},
   "source": [
    "We can also visualize those tags!"
   ]
  },
  {
   "cell_type": "code",
   "execution_count": 35,
   "metadata": {},
   "outputs": [
    {
     "data": {
      "text/html": [
       "<div class=\"entities\" style=\"line-height: 2.5; direction: ltr\">\n",
       "<mark class=\"entity\" style=\"background: #aa9cfc; padding: 0.45em 0.6em; margin: 0 0.25em; line-height: 1; border-radius: 0.35em; box-decoration-break: clone; -webkit-box-decoration-break: clone\">\n",
       "    John\n",
       "    <span style=\"font-size: 0.8em; font-weight: bold; line-height: 1; border-radius: 0.35em; text-transform: uppercase; vertical-align: middle; margin-left: 0.5rem\">PERSON</span>\n",
       "</mark>\n",
       " visited \n",
       "<mark class=\"entity\" style=\"background: #feca74; padding: 0.45em 0.6em; margin: 0 0.25em; line-height: 1; border-radius: 0.35em; box-decoration-break: clone; -webkit-box-decoration-break: clone\">\n",
       "    US\n",
       "    <span style=\"font-size: 0.8em; font-weight: bold; line-height: 1; border-radius: 0.35em; text-transform: uppercase; vertical-align: middle; margin-left: 0.5rem\">GPE</span>\n",
       "</mark>\n",
       " in \n",
       "<mark class=\"entity\" style=\"background: #bfe1d9; padding: 0.45em 0.6em; margin: 0 0.25em; line-height: 1; border-radius: 0.35em; box-decoration-break: clone; -webkit-box-decoration-break: clone\">\n",
       "    2020\n",
       "    <span style=\"font-size: 0.8em; font-weight: bold; line-height: 1; border-radius: 0.35em; text-transform: uppercase; vertical-align: middle; margin-left: 0.5rem\">DATE</span>\n",
       "</mark>\n",
       ".</div>"
      ],
      "text/plain": [
       "<IPython.core.display.HTML object>"
      ]
     },
     "metadata": {},
     "output_type": "display_data"
    }
   ],
   "source": [
    "displacy.render(doc, style=\"ent\", jupyter=True)\n",
    "# GPE stands for the Geopolitical entity"
   ]
  },
  {
   "cell_type": "markdown",
   "metadata": {},
   "source": [
    "`Spacy` gives many tools for this kind of analysis and identification. It also contains preprocessing tools like tokenizers and even advanced word embeddings. Make sure to check its [documentation](https://spacy.io/usage#quickstart)!"
   ]
  },
  {
   "cell_type": "markdown",
   "metadata": {},
   "source": [
    "---"
   ]
  },
  {
   "cell_type": "markdown",
   "metadata": {},
   "source": [
    "## 5. Bag-of-words model\n",
    "Ok, now that we have tokenised and preprocessed our text, it is time to convert it into computer-readable vectors. This is called feature extraction. The **bag-of-words (BOW) model** is a popular and simple feature extraction technique. The intuition behind BOW is that two sentences are said to be similar if they contain a similar set of words. Bag-of-words can be treated as a special case of a more complex, **n-gram language model**.\n",
    "\n",
    "The general idea of the BOW model is to count how many times each word (*token*) from the dataset occurs in a given sentence/source. The simplest way of implementing this model is using Python dictionaries. Let's try!"
   ]
  },
  {
   "cell_type": "code",
   "execution_count": 36,
   "metadata": {},
   "outputs": [
    {
     "name": "stdout",
     "output_type": "stream",
     "text": [
      "{'They': 1, 'like': 1, 'apples': 1}\n",
      "{'We': 1, 'like': 1, 'bananas': 1}\n"
     ]
    }
   ],
   "source": [
    "sentence1 = \"They like apples\"\n",
    "sentence2 = \"We like bananas\"\n",
    "\n",
    "sentence1_bag = {}\n",
    "sentence2_bag = {}\n",
    "\n",
    "def create_bag(text):\n",
    "    bag = {}\n",
    "    for token in text.split():\n",
    "        if token in bag:\n",
    "            bag[token] += 1\n",
    "        else:\n",
    "            bag[token] = 1\n",
    "    return bag\n",
    "\n",
    "sentence1_bag = create_bag(sentence1)\n",
    "sentence2_bag = create_bag(sentence2)\n",
    "print(sentence1_bag)\n",
    "print(sentence2_bag)"
   ]
  },
  {
   "cell_type": "markdown",
   "metadata": {},
   "source": [
    "Ok, now the computer understands how many and which words make up each sentence but is it able to compare them? No, because there isn't any connection between those sentences (yet!). We have to develop a \"common denominator\" for both sentences so we can compare them. \n",
    "\n",
    "### 5.1 One-Hot Vectors\n",
    "In the case of the BOW model, the solution is to create a *bag* of all used tokens and encode words using computer-readable **One-Hot Vectors**. How does it work? BOW constructs a dictionary of *m* unique words in the corpus (vocabulary) and converts each word into a sparse vector of size *m*, where all values are set to 0 apart from the index of that word in the vocabulary. We can also say that each word is a feature and that sentences consist of features. If a feature is present in a given sentence it means one thing, if it is not present it means something different."
   ]
  },
  {
   "cell_type": "markdown",
   "metadata": {},
   "source": [
    "In the case above there are five different words: \"They\", \"We\", \"like\", \"apples\", \"bananas\". We can encode them using a vector of length 5.\n",
    "\n",
    "| word    | associated vector |\n",
    "|---------|-------------------|\n",
    "| They    | [1,0,0,0,0]       |\n",
    "| We      | [0,1,0,0,0]       |\n",
    "| like    | [0,0,1,0,0]       |\n",
    "| apples  | [0,0,0,1,0]       |\n",
    "| bananas | [0,0,0,0,1]       |\n",
    "\n",
    "\n",
    "A sentence can be represented by adding the vectors together.\n",
    "\n",
    "For example: *They like apples* can be expressed as *They + like + apples* and using vectors: [1,0,0,0,0] + [0,0,1,0,0] + [0,0,0,1,0] = [1,0,1,1,0], hence the computer readable version of \"They like apples\" is [1,0,1,1,0]. Simple, right? Unfortunately, it is often too simple - look what happens if you transfrm \"apples like They\" to vectors: the result is exactly the same [1,0,1,1,0]! We can use the n-gram model to eliminate this issue.\n",
    "\n",
    "| sentence           | associated sum of vectors |\n",
    "|--------------------|---------------------------|\n",
    "| They like apples   | [1,0,1,1,0]               |\n",
    "| We like apples     | [0,1,1,1,0]               |\n",
    "| We like bananas    | [0,1,1,0,1]               |\n",
    "| apples like They   | [1,0,1,1,0]               |\n",
    "\n",
    "What if there are more than 1 occurrence of the same token? There are different ways of handling that: max-pooling only counts whether a word is present, but not how many times. Sum pooling counts the number of occurrences of each word.\n",
    "\n",
    "| sentence                     | method            | associated sum of vectors |\n",
    "|------------------------------|-------------------|---------------------------|\n",
    "| They like like like apples   | max-pooling       |[1,0,1,1,0]                |\n",
    "| They like like like apples   | sum pooling       |[1,0,3,1,0]                |\n",
    "\n",
    "\n",
    "\n",
    "Now, how to implement it in Python? Of course, we could develop our own methods of words vectorization but the `scikit-learn` package gives us a set of useful tools!"
   ]
  },
  {
   "cell_type": "code",
   "execution_count": 37,
   "metadata": {},
   "outputs": [
    {
     "name": "stdout",
     "output_type": "stream",
     "text": [
      "['apples', 'bananas', 'like', 'they', 'we']\n"
     ]
    }
   ],
   "source": [
    "from sklearn.feature_extraction.text import CountVectorizer, TfidfVectorizer\n",
    "\n",
    "# Corpus containing all sentences\n",
    "corpus = [sentence1, sentence2]\n",
    "\n",
    "vectorizer = CountVectorizer(ngram_range=(1,3))\n",
    "vectorizer.fit(corpus)  # vectorizer learns numbers of word occurrences (features)\n",
    "print(vectorizer.get_feature_names())"
   ]
  },
  {
   "cell_type": "markdown",
   "metadata": {},
   "source": [
    "As you can see, count vectorizer created a set of 5 features based on which it will \"score\" given sentences. Let's see how to transform a sentence into a corresponding vector."
   ]
  },
  {
   "cell_type": "code",
   "execution_count": 38,
   "metadata": {},
   "outputs": [
    {
     "name": "stdout",
     "output_type": "stream",
     "text": [
      "They like apples\n",
      "[[1 0 1 1 0]]\n"
     ]
    }
   ],
   "source": [
    "print(sentence1)\n",
    "print(vectorizer.transform([sentence1]).toarray())"
   ]
  },
  {
   "cell_type": "code",
   "execution_count": 39,
   "metadata": {},
   "outputs": [
    {
     "name": "stdout",
     "output_type": "stream",
     "text": [
      "We like bananas\n",
      "[[0 1 1 0 1]]\n"
     ]
    }
   ],
   "source": [
    "print(sentence2)\n",
    "print(vectorizer.transform([sentence2]).toarray())"
   ]
  },
  {
   "cell_type": "code",
   "execution_count": 40,
   "metadata": {},
   "outputs": [
    {
     "name": "stdout",
     "output_type": "stream",
     "text": [
      "like like like\n",
      "[[0 0 3 0 0]]\n"
     ]
    }
   ],
   "source": [
    "print(\"like like like\")\n",
    "print(vectorizer.transform([\"like like like\"]).toarray())"
   ]
  },
  {
   "cell_type": "markdown",
   "metadata": {},
   "source": [
    "As you can see CountVectorizer is sum pooling by default. If you want to change it to max-pooling add a parameter \"binary=True\"."
   ]
  },
  {
   "cell_type": "code",
   "execution_count": 41,
   "metadata": {},
   "outputs": [
    {
     "name": "stdout",
     "output_type": "stream",
     "text": [
      "like like like\n",
      "[[0 0 1 0 0]]\n"
     ]
    }
   ],
   "source": [
    "vectorizer = CountVectorizer(binary=True)\n",
    "vectorizer.fit(corpus)\n",
    "print(\"like like like\")\n",
    "print(vectorizer.transform([\"like like like\"]).toarray())"
   ]
  },
  {
   "cell_type": "markdown",
   "metadata": {},
   "source": [
    "### 5.2 BOW model limitations - the word order\n",
    "Although bag-of-words is simple, easy to implement and in some applications works quite well, it has some serious limitations. The first one is the one we have already discussed - the word order does not matter. If the purpose of the model is to classify texts based on some keywords then it may be not important what was the order of words. However, it's quite tricky - two single words may have very different meaning when they occur together. Let's take a closer look at this example:"
   ]
  },
  {
   "cell_type": "code",
   "execution_count": 42,
   "metadata": {},
   "outputs": [
    {
     "name": "stdout",
     "output_type": "stream",
     "text": [
      "['actually', 'bad', 'good', 'movie', 'not', 'quite', 'the', 'was']\n",
      "The movie was not bad, actually quite good!\n",
      "[[1 1 1 1 1 1 1 1]]\n",
      "The movie was not good, actually quite bad!\n",
      "[[1 1 1 1 1 1 1 1]]\n"
     ]
    }
   ],
   "source": [
    "# Let's say there are two reviews of the same movie \n",
    "corpus = [\"The movie was not bad, actually quite good!\", \"The movie was not good, actually quite bad!\"]\n",
    "\n",
    "vectorizer = CountVectorizer()\n",
    "vectorizer.fit(corpus)  # vectorizes learns numbers of word occurences (features)\n",
    "print(vectorizer.get_feature_names())\n",
    "for sentence in corpus:\n",
    "    print(sentence)\n",
    "    print(vectorizer.transform([sentence]).toarray())"
   ]
  },
  {
   "cell_type": "markdown",
   "metadata": {},
   "source": [
    "Although those reviews express completely opposite emotions, both senteces have been represented in the exactly same way. "
   ]
  },
  {
   "cell_type": "markdown",
   "metadata": {},
   "source": [
    "### 5.3 BOW model limitations - previously unseen words \n",
    "The next problem is new words. What happens if we ask our model to vectorize a text which contains previously unseen words (i.e. those words weren't present in the training corpus)? We cannot add them to the corpus and encode them on the fly since this will change the length of the vector. The only reasonable solution is to dismiss all words which were not in the training corpus. "
   ]
  },
  {
   "cell_type": "code",
   "execution_count": 43,
   "metadata": {},
   "outputs": [
    {
     "name": "stdout",
     "output_type": "stream",
     "text": [
      "['apples', 'bananas', 'like', 'they', 'we']\n",
      "We like apples, bananas\n",
      "[[1 1 1 0 1]]\n",
      "We like apples, bananas, plums\n",
      "[[1 1 1 0 1]]\n"
     ]
    }
   ],
   "source": [
    "corpus = [\"They like bananas\", \"We like apples\"]\n",
    "\n",
    "test_sentence1 = \"We like apples, bananas\"\n",
    "test_sentence2 = \"We like apples, bananas, plums\"\n",
    "\n",
    "\n",
    "vectorizer = CountVectorizer()\n",
    "vectorizer.fit(corpus)  # vectorizes learns numbers of word occurrences (features)\n",
    "print(vectorizer.get_feature_names())\n",
    "\n",
    "print(test_sentence1)\n",
    "print(vectorizer.transform([test_sentence1]).toarray())\n",
    "print(test_sentence2)\n",
    "print(vectorizer.transform([test_sentence2]).toarray())"
   ]
  },
  {
   "cell_type": "markdown",
   "metadata": {},
   "source": [
    "As you can see, both sentences got encoded to the same vector. Because of this, we lost the additional information from the second sentence that \"they\" also like plums. The solution for this problem is to use sufficiently large training corpora but this leads to a significant performance drop and unreasonable memory usage (for corpus containing 100k words, every sentence is represented using a vector of length 100k). I encourage you to read [this chapter](https://web.stanford.edu/~jurafsky/slp3/3.pdf) of the SLP book about a better model - the **n-gram language model**.\n",
    "\n"
   ]
  },
  {
   "cell_type": "code",
   "execution_count": null,
   "metadata": {},
   "outputs": [],
   "source": []
  }
 ],
 "metadata": {
  "interpreter": {
   "hash": "916dbcbb3f70747c44a77c7bcd40155683ae19c65e1c03b4aa3499c5328201f1"
  },
  "kernelspec": {
   "display_name": "Python 3",
   "language": "python",
   "name": "python3"
  },
  "language_info": {
   "codemirror_mode": {
    "name": "ipython",
    "version": 3
   },
   "file_extension": ".py",
   "mimetype": "text/x-python",
   "name": "python",
   "nbconvert_exporter": "python",
   "pygments_lexer": "ipython3",
   "version": "3.8.5"
  }
 },
 "nbformat": 4,
 "nbformat_minor": 2
}
