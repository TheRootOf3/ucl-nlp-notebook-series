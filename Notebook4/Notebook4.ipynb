{
 "cells": [
  {
   "cell_type": "markdown",
   "source": [
    "# Notebook 4 - Naive-Bayes and Logistics Regression in NLP"
   ],
   "metadata": {}
  },
  {
   "cell_type": "markdown",
   "source": [
    "## 7. Naive-Bayes Classifier\n",
    "\n",
    "As stated in the previous notebook, Naive-Bayes is a supervised learning probabilistic classifier. It is based on applying Bayes' probability theorem and using the fact that occurrence of an event impacts the probability of another event. But how exactly does it work?\n",
    "\n",
    "### 7.1. NB Fundamentals\n",
    "The general purpose of classifiers is to *classify* samples from the dataset into 2 or more **classes**. Since we want to classify text, instead of term *sample* we will use term **document**. Thus, classifiers' task is to take an input document *d* and out of all possible classes, return a class *c*, to which the document *d* belongs.\n",
    "\n",
    "Now, since NB is the probabilistic classifier, its role would be to **maximize the probability** of the predicted class c given the input document d.\n",
    "<div style=\"text-align:center\"><img src=\"res/eq1.png\" alt=\"!!!equation 4.1!!!\" width=\"300\"/></div>\n",
    "\n",
    "The intuition of Bayesian classification is to use **Bayes’ rule** to transform the equation above into their probabilities that have some useful properties.\n",
    "<div style=\"text-align:center\"><img src=\"res/eq2.png\" alt=\"!!!equation 4.2!!!\" width=\"300\"/></div>\n",
    "\n",
    "We then substitute the first equation into the second one to get:\n",
    "<div style=\"text-align:center\"><img src=\"res/eq3.png\" alt=\"!!!equation 4.3!!!\" width=\"400\"/></div>\n",
    "\n",
    "We can conveniently simplify the above equation by dropping the denominator *P(d)*. This is possible because we will be computing *P(d|c)P(c) / P(d)* for each possible class, but *P(d)* does not change for each class; we are always asking the most likely class for the same article *d*, which must have the same probability *P(d)*. Thus, we can choose the class that maximises the simpler formula\n",
    "\n",
    "<div style=\"text-align:center\"><img src=\"res/eq4.png\" alt=\"!!!equation 4.4!!!\" width=\"400\"/></div>\n",
    "\n",
    "Okay, but how do we actually represent a document *d*? We can represent a document as a set of **features** `d = (f1, f2, f3 ... fn)`. One way to define these features is to use the Bag-of-words model introduced in the Notebook 2. After contstructing the BOW of the complete dataset, we will be able to express each document as a vector of word counts. Thus, we can treat each vector value associated with a different word as a separate feature giving us information on the words (and optionally their counts) used in the document. Here we also introduce the first of two **simplifying assumptions**: since we use BOW, the **word ordering doesn't matter**. We don't care about the position of a word in a document.\n",
    "<div style=\"text-align:center\"><img src=\"res/eq5.png\" alt=\"!!!equation 4.6!!!\" width=\"400\"/></div>\n",
    "\n",
    "However, calculating `P(f1, f2, f3 ... fn | c)` requires computing all possible combinations of features (if BOW uses sum pooling than even more!). We need another simplifying assumption called the **naive Bayes assumption** - the conditional independence between features given the same class. Hence, we can multiply probabilites as follows:\n",
    "<div style=\"text-align:center\"><img src=\"res/eq6.png\" alt=\"!!!equation 4.7!!!\" width=\"400\"/></div>\n",
    "\n",
    "Resulting in a final equation:\n",
    "<div style=\"text-align:center\"><img src=\"res/eq8.png\" alt=\"!!!equation 4.8!!!\" width=\"400\"/></div>\n"
   ],
   "metadata": {}
  },
  {
   "cell_type": "markdown",
   "source": [
    "### 7.2 NB Training\n",
    "\n",
    "So how do we train the classifier? How does it learn what actually is *P(c)* and *P(f|c)*? Starting with the first probability, we can simply use frequencies and derive it from the probability definition: the probability of a class in the dataset is the number of documents of this class divided be the total number of all documents. \n",
    "<div style=\"text-align:center\"><img src=\"res/eq8,5.png\" alt=\"!!!equation 4.11!!!\" width=\"200\"/></div>\n",
    "\n",
    "Learning the probability of a features given a class *P(f<sub>i</sub>|c)* isn't more complicated. We assume a feature is just the existence of a word in the document’s bag of words (set of the vocabulary *V*), and so we’ll want *P(w|c)*, which we compute as **fraction of times the word w<sub>i</sub> appears among all words in all documents of topic c**.\n",
    "<div style=\"text-align:center\"><img src=\"res/eq9.png\" alt=\"!!!equation 4.12!!!\" width=\"400\"/></div>\n",
    "\n",
    "Let's consider the following example:\n",
    "\n",
    "This is our training data:\n",
    "\n",
    "| **Text** | **Lables** |\n",
    "|----------|-----------|\n",
    "|\"What a great match\" | sports |\n",
    "|\"The election results will be out tomorrow\"| not sports |\n",
    "|\"The match was very boring\"| sports |\n",
    "|\"It was a close election\"| not sports |\n",
    "\n",
    "To make the example easier to follow, let’s assume we applied some pre-processing to the sentences and removed stopwords. The resulting sentences are:\n",
    "\n",
    "| **Text** | **Lables** |\n",
    "|----------|------------|\n",
    "|\"great match\"|  sports |\n",
    "|\"election results tomorrow\"| not sports |\n",
    "|\"match boring\"| sports |\n",
    "|\"close election\"| not sports |\n",
    "\n",
    "In our small corpus, we have 2 classes each having 2 senteces. Hence, the probability of each class is:\n",
    "\n",
    "        P(\"sports\") = 2/4 = 0.5\n",
    "        P(\"not sports\") = 2/4 = 0.5\n",
    "\n",
    "Total unique features (words) for \"sports\": 3\n",
    "Total unique features (words) for \"not sports\": 4\n",
    "\n",
    "Let's say we want to assign a class to the following sentence \"that was a very close, great match\". After stop word removal it is \"**close great match**\". Now we need to perform some calculations:\n",
    "\n",
    "1. Likelihood P(\"close great match\"|sports) = P(\"close\"|sports) * P(\"great\"|sports) * P(\"match\"|sports)\n",
    "2. Likelihood P(\"close great match\"|not sports) = P(\"close\"|not sports) * P(\"great\"|not sports) * P(\"match\"|not sports)\n",
    "\n",
    "| word | P(word\\|sports) | P(word\\|not sports)|\n",
    "|------|----------------|-------------------|\n",
    "| close | 0/3 | 1/4 |\n",
    "| great | 1/3| 0/4|\n",
    "| match | 2/3| 0/4|\n",
    "\n",
    "We suspect that the correct class is \"sport\", right? Let's see what happens with the likelihood:\n",
    "P(\"close great match\"|sports) = 0/3 * 1/3 * 2/3\n",
    "P(\"close great match\"|sports) = 0\n",
    "\n",
    "Oops... This example shows a very common situation - there were no training documents classified as \"sports\" containing word \"close\". As a result, P(\"close\"|\"sports\") results in a painful zero, which also makes the product of probabilities equals 0. We can solve this issue using **smoothing**."
   ],
   "metadata": {}
  },
  {
   "cell_type": "markdown",
   "source": [
    "### 7.4 NB Smoothing & Unknown words\n",
    "\n",
    "<!-- TODO -->\n"
   ],
   "metadata": {}
  },
  {
   "cell_type": "markdown",
   "source": [
    "### 7.5 Completed NB example & Implementation\n",
    "\n",
    "Ok, so let's complete our example using the Laplace smoothing.\n",
    "\n",
    "The size of our vocabulary |V| = 7, so we will add it to all denominators.\n",
    "\n",
    "| word | P(word\\|sports) | P(word\\|not sports)|\n",
    "|------|----------------|-------------------|\n",
    "| close | 1/10 | 2/11 |\n",
    "| great | 2/10| 1/11|\n",
    "| match | 3/10| 1/11|\n",
    "\n",
    "P(\"close great match\"|sports) = 1/10 * 2/10 * 3/10 = 0.006\n",
    "P(\"close great match\"|not sports) = 2/11 * 1/11 * 1/11 = 0.0015\n",
    "\n",
    "Now, we have to multiply each probability by the probability of a class (posterior = likelihood * prior), which results in:\n",
    "P(\"close great match\"|sports)*P(sports) = 0.006 * 0.5 = 0.003\n",
    "P(\"close great match\"|not sports)*P(not sports) = 0.0015 * 0.5 = 0.00075\n",
    "\n",
    "Thus, there is a higher probability that the test document is indeed about sports and this would be the decision of the NB classifier.\n",
    "\n",
    "Now, let's implement exactly the same example using `Python` and `scikit-learn`!"
   ],
   "metadata": {}
  },
  {
   "cell_type": "code",
   "execution_count": null,
   "source": [
    "# 1 - sports, 0 - not sports\n",
    "training_corpus = [\"What a great match\",\n",
    "          \"The election results will be out tomorrow\",\n",
    "          \"The match was very boring\",\n",
    "          \"It was a close election\",\n",
    "          ]\n",
    "training_labels = [1, 0, 1, 0]\n",
    "\n",
    "test_doc = \"that was a very close, great match\""
   ],
   "outputs": [],
   "metadata": {}
  },
  {
   "cell_type": "code",
   "execution_count": null,
   "source": [
    "from sklearn.naive_bayes import MultinomialNB\n",
    "from sklearn.metrics import f1_score\n",
    "\n",
    "from sklearn.feature_extraction.text import CountVectorizer\n",
    "\n",
    "# Instantiate countvectorizer. You can sepcify what kind of preprocessing will be done by the CountVectorizer\n",
    "# In this case we want all text in lowercase, remove stopwords, keep only alphanumeric characters.\n",
    "count_vector = CountVectorizer(lowercase=True, stop_words='english', token_pattern='\\w+')\n",
    "\n",
    "# Fit training data\n",
    "training_data = count_vector.fit_transform(training_corpus)\n",
    "# Let's inspect vectors\n",
    "print(count_vector.get_feature_names())\n",
    "print(training_data.toarray())\n",
    "\n",
    "# transform test data\n",
    "test_doc_transform = count_vector.transform([test_doc])"
   ],
   "outputs": [],
   "metadata": {}
  },
  {
   "cell_type": "code",
   "execution_count": null,
   "source": [
    "# Create the classifier object and fit data. The classifier object is by default created with the Laplace smoothing\n",
    "naive_bayes = MultinomialNB()\n",
    "naive_bayes.fit(training_data, training_labels)\n",
    "\n",
    "# Make predictions.\n",
    "predictions = naive_bayes.predict(test_doc_transform)\n",
    "predictions"
   ],
   "outputs": [],
   "metadata": {}
  },
  {
   "cell_type": "markdown",
   "source": [
    "Result of 1, means the classifier predict that the test sentence was from the \"sport\" category. Now, let's try with this one:"
   ],
   "metadata": {}
  },
  {
   "cell_type": "code",
   "execution_count": null,
   "source": [
    "test_doc2 = \"that was a very close, great election\"\n",
    "test_doc2_transform = count_vector.transform([test_doc2])\n",
    "predictions = naive_bayes.predict(test_doc2_transform)\n",
    "predictions"
   ],
   "outputs": [],
   "metadata": {}
  },
  {
   "cell_type": "code",
   "execution_count": null,
   "source": [
    "# We can also inspect calculated probabilites.\n",
    "print(naive_bayes.classes_)  # print the order of classes\n",
    "print(naive_bayes.predict_proba(test_doc_transform))\n",
    "print(naive_bayes.predict_proba(test_doc2_transform))\n"
   ],
   "outputs": [],
   "metadata": {}
  },
  {
   "cell_type": "markdown",
   "source": [
    "This was just a simple example to familiarize with the NB classifier. Let's look at a real word scenario!"
   ],
   "metadata": {}
  },
  {
   "cell_type": "markdown",
   "source": [
    "### 7.6 News classification using NB"
   ],
   "metadata": {}
  },
  {
   "cell_type": "markdown",
   "source": [
    "## 8. Logistic Regression Classifier"
   ],
   "metadata": {}
  }
 ],
 "metadata": {
  "orig_nbformat": 4,
  "language_info": {
   "name": "python",
   "version": "3.8.10",
   "mimetype": "text/x-python",
   "codemirror_mode": {
    "name": "ipython",
    "version": 3
   },
   "pygments_lexer": "ipython3",
   "nbconvert_exporter": "python",
   "file_extension": ".py"
  },
  "kernelspec": {
   "name": "python3",
   "display_name": "Python 3.8.10 64-bit"
  },
  "interpreter": {
   "hash": "31f2aee4e71d21fbe5cf8b01ff0e069b9275f58929596ceb00d14d90e3e16cd6"
  }
 },
 "nbformat": 4,
 "nbformat_minor": 2
}